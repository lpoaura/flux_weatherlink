{
 "cells": [
  {
   "cell_type": "code",
   "execution_count": 2,
   "id": "6a6b2cef",
   "metadata": {},
   "outputs": [],
   "source": [
    "# Informations API :\n",
    "SecretsAPI = {'APIKey' : 'zjbvtfdvjslxklxclzscfu6isqpqfxbg',\n",
    "'APISecret' : 'mih0udjsuetwaatpwzrqzeglljmy889b',\n",
    "'StationID' : 122495}"
   ]
  },
  {
   "cell_type": "code",
   "execution_count": 3,
   "id": "7a0dc07f",
   "metadata": {},
   "outputs": [],
   "source": [
    "# informations BDD :\n",
    "SecretsBDD = {'host' : \"localhost\",\n",
    "'database' : \"Test_LPO\",\n",
    "'user' : \"postgres\",\n",
    "'password' : \"15072022\"}"
   ]
  }
 ],
 "metadata": {
  "kernelspec": {
   "display_name": "Python 3 (ipykernel)",
   "language": "python",
   "name": "python3"
  },
  "language_info": {
   "codemirror_mode": {
    "name": "ipython",
    "version": 3
   },
   "file_extension": ".py",
   "mimetype": "text/x-python",
   "name": "python",
   "nbconvert_exporter": "python",
   "pygments_lexer": "ipython3",
   "version": "3.11.5"
  }
 },
 "nbformat": 4,
 "nbformat_minor": 5
}
