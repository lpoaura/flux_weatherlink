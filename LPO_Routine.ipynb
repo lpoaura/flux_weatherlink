{
 "cells": [
  {
   "cell_type": "markdown",
   "id": "4f04abac",
   "metadata": {},
   "source": [
    "# 1 : Librairies Python"
   ]
  },
  {
   "cell_type": "code",
   "execution_count": 1,
   "id": "8796e8fe",
   "metadata": {},
   "outputs": [],
   "source": [
    "# pip install pandas sqlalchemy psycopg2-binary python-dotenv"
   ]
  },
  {
   "cell_type": "code",
   "execution_count": 2,
   "id": "1c98ba20",
   "metadata": {},
   "outputs": [],
   "source": [
    "# Librairies et options :\n",
    "# Divers :\n",
    "import pandas as pd\n",
    "import random\n",
    "import datetime\n",
    "import requests\n",
    "import json\n",
    "import numpy as np\n",
    "import tqdm\n",
    "import time\n",
    "import pytz\n",
    "\n",
    "# Importer les codes depuis un autre notebook :\n",
    "%run Codes.ipynb\n",
    "\n",
    "# Importer les codes depuis un fichier .env :\n",
    "from dotenv import load_dotenv\n",
    "import os\n",
    "load_dotenv()\n",
    "\n",
    "# Création et lecture des BDD postgresl :\n",
    "from sqlalchemy import create_engine\n",
    "import psycopg2\n",
    "from sqlalchemy.types import Integer, BigInteger, JSON"
   ]
  },
  {
   "cell_type": "markdown",
   "id": "60ffe7e1",
   "metadata": {},
   "source": [
    "# 2 : Clés API et BDD :"
   ]
  },
  {
   "cell_type": "code",
   "execution_count": 3,
   "id": "e00245af",
   "metadata": {},
   "outputs": [],
   "source": [
    "# Informations API : https://weatherlink.github.io/v2-api/\n",
    "# Clés API :\n",
    "APIKey = os.getenv(\"APIKey\")\n",
    "APISecret = os.getenv(\"APISecret\")\n",
    "stationID = os.getenv(\"stationID\")"
   ]
  },
  {
   "cell_type": "code",
   "execution_count": 4,
   "id": "c74dd322",
   "metadata": {},
   "outputs": [],
   "source": [
    "# Paramètres de connexion à la base de données PostgreSQL en local :\n",
    "host = os.getenv(\"host\")\n",
    "database = os.getenv(\"database\")\n",
    "user = os.getenv(\"user\")\n",
    "password = os.getenv(\"password\")\n",
    "nomTable = os.getenv(\"nomTable\")"
   ]
  },
  {
   "cell_type": "markdown",
   "id": "f0f694e0",
   "metadata": {},
   "source": [
    "# 3 : Récupération de la TS la plus récente"
   ]
  },
  {
   "cell_type": "code",
   "execution_count": 5,
   "id": "5d308f51",
   "metadata": {},
   "outputs": [
    {
     "data": {
      "text/plain": [
       "1713218400"
      ]
     },
     "execution_count": 5,
     "metadata": {},
     "output_type": "execute_result"
    }
   ],
   "source": [
    "# Connexion à la base de données\n",
    "conn = psycopg2.connect(dbname = database, user = user, password = password , host = host)\n",
    "\n",
    "# Création d'un curseur : permet d'exécuter des commandes SQL sur la base de données.\n",
    "cur = conn.cursor()\n",
    "\n",
    "# Exécution d'une requête SQL pour sélectionner les données de ma_table\n",
    "cur.execute(f\"SELECT ts FROM {nomTable} ORDER BY ts DESC LIMIT 1\")\n",
    "\n",
    "# Récupération des données dans une liste de tuples\n",
    "data = cur.fetchall()\n",
    "\n",
    "# Création d'un DataFrame à partir des données\n",
    "df = pd.DataFrame(data, columns=[desc[0] for desc in cur.description])\n",
    "\n",
    "# Fermeture du curseur et de la connexion\n",
    "cur.close()\n",
    "conn.close()\n",
    "\n",
    "# Récupération de la ts la plus récente de la BDD :\n",
    "LastLoadTimestamp = df.values[0][0]\n",
    "LastLoadTimestamp"
   ]
  },
  {
   "cell_type": "markdown",
   "id": "4e3c3c05",
   "metadata": {},
   "source": [
    "# 4 : Ouverture de l'API"
   ]
  },
  {
   "cell_type": "code",
   "execution_count": 6,
   "id": "5885bb18",
   "metadata": {},
   "outputs": [
    {
     "name": "stdout",
     "output_type": "stream",
     "text": [
      "Le timestamp correspondant à la date du 2024-04-16 00:00:00 est : 1713218400\n"
     ]
    }
   ],
   "source": [
    "# Date d'aujourd'hui à minuit :\n",
    "Today = datetime.date.today()\n",
    "TodayMidnight = datetime.datetime.combine(Today, datetime.time.min)\n",
    "\n",
    "# Dernier enregistrement dans la BDD :\n",
    "LastLoadTimestamp = df.values[0][0]\n",
    "\n",
    "# Convertir la date :\n",
    "TodayMidnightTimestamp = int(TodayMidnight.timestamp())\n",
    "\n",
    "print(\"Le timestamp correspondant à la date du {} est :\".format(TodayMidnight), TodayMidnightTimestamp)"
   ]
  },
  {
   "cell_type": "code",
   "execution_count": 7,
   "id": "b988c4b4",
   "metadata": {},
   "outputs": [
    {
     "name": "stderr",
     "output_type": "stream",
     "text": [
      "0it [00:00, ?it/s]\n"
     ]
    }
   ],
   "source": [
    "# DataFrame historiques :\n",
    "dfNew = pd.DataFrame()\n",
    "\n",
    "# Nb de jours à récupérer :\n",
    "NbJours = int((TodayMidnightTimestamp - LastLoadTimestamp) / 86400)\n",
    "\n",
    "for i in tqdm.tqdm(range(NbJours)):\n",
    "    StartTime = LastLoadTimestamp + i * 86400\n",
    "    EndTime = StartTime + 86400\n",
    "    \n",
    "    # Lien de la request : \n",
    "    link = 'https://api.weatherlink.com/v2/historic/{}?api-key={}&start-timestamp={}&end-timestamp={}'.format(StationID, APIKey, StartTime, EndTime)\n",
    "    headers = {'X-Api-Secret' : APISecret}\n",
    "\n",
    "    # Requête :\n",
    "    r = requests.get(link, headers=headers)\n",
    "\n",
    "    # Si la requête a réussi :\n",
    "    if r.status_code == 200:\n",
    "        # Lecture de la request en json :\n",
    "        data = r.json()\n",
    "\n",
    "        # Transformation en DF : \n",
    "        dfJour = pd.DataFrame(data)\n",
    "        dfJour = dfJour[['station_id','sensors']]\n",
    "\n",
    "        # Récupération des valeurs se trouvant dans sensors :\n",
    "        dfSensors = pd.json_normalize(data['sensors'][0]['data'])\n",
    "    \n",
    "        # Récupération des json sur une colonne :\n",
    "        dfJour = pd.DataFrame({'station_id': data['station_id'], 'infos_json' : data['sensors'][0]['data']})\n",
    "    \n",
    "        # Convertir les objets JSON en chaînes de caractères JSON :\n",
    "        dfJour['infos_json'] = dfJour['infos_json'].apply(json.dumps)\n",
    "\n",
    "        # Concat des données :\n",
    "        dfJour = pd.concat([dfJour, dfSensors], axis=1)\n",
    "        \n",
    "        # Concaténation des données :\n",
    "        dfNew = pd.concat([dfNew, dfJour], ignore_index=True)\n",
    "    else:\n",
    "        print(\"La requête {} a échoué avec le code d'erreur {}\".format(link, r.status_code))"
   ]
  },
  {
   "cell_type": "code",
   "execution_count": 8,
   "id": "66a86b25",
   "metadata": {},
   "outputs": [
    {
     "data": {
      "text/html": [
       "<div>\n",
       "<style scoped>\n",
       "    .dataframe tbody tr th:only-of-type {\n",
       "        vertical-align: middle;\n",
       "    }\n",
       "\n",
       "    .dataframe tbody tr th {\n",
       "        vertical-align: top;\n",
       "    }\n",
       "\n",
       "    .dataframe thead th {\n",
       "        text-align: right;\n",
       "    }\n",
       "</style>\n",
       "<table border=\"1\" class=\"dataframe\">\n",
       "  <thead>\n",
       "    <tr style=\"text-align: right;\">\n",
       "      <th></th>\n",
       "    </tr>\n",
       "  </thead>\n",
       "  <tbody>\n",
       "  </tbody>\n",
       "</table>\n",
       "</div>"
      ],
      "text/plain": [
       "Empty DataFrame\n",
       "Columns: []\n",
       "Index: []"
      ]
     },
     "execution_count": 8,
     "metadata": {},
     "output_type": "execute_result"
    }
   ],
   "source": [
    "# Data Frame Finale :\n",
    "dfNew.head()"
   ]
  },
  {
   "cell_type": "markdown",
   "id": "2d63b4c2",
   "metadata": {},
   "source": [
    "# 3 : Transfert sur PostgreSQL"
   ]
  },
  {
   "cell_type": "code",
   "execution_count": 9,
   "id": "06b8590b",
   "metadata": {},
   "outputs": [
    {
     "name": "stdout",
     "output_type": "stream",
     "text": [
      "Durée d'exécution : 0.0 minutes\n"
     ]
    }
   ],
   "source": [
    "# Début du chronomètre :\n",
    "start_time = time.time()\n",
    "\n",
    "# Création de la chaîne de connexion PostgreSQL :\n",
    "conn_str = f\"postgresql://{user}:{password}@{host}/{database}\"\n",
    "\n",
    "# Création de la connexion à la base de données PostgreSQL :\n",
    "engine = create_engine(conn_str)\n",
    "\n",
    "# Définir les types de données pour chaque colonne :\n",
    "dtype = {'station_id': Integer(),\n",
    "         'ts': BigInteger(),\n",
    "         'infos_json': JSON}\n",
    "\n",
    "# Ajouter le DataFrame dans la base de données PostgreSQL :\n",
    "dfNew.to_sql(nomTable, engine, if_exists = 'append', index=False, dtype=dtype)\n",
    "\n",
    "# Fermeture de la connexion :\n",
    "engine.dispose()\n",
    "\n",
    "# Fin du chronomètre :\n",
    "end_time = time.time()\n",
    "\n",
    "# Calcul de la durée d'exécution :\n",
    "execution_time = end_time - start_time\n",
    "\n",
    "# Affichage de la durée d'exécution :\n",
    "print(\"Durée d'exécution :\", round(execution_time/60,2), \"minutes\")"
   ]
  }
 ],
 "metadata": {
  "kernelspec": {
   "display_name": "Python 3 (ipykernel)",
   "language": "python",
   "name": "python3"
  },
  "language_info": {
   "codemirror_mode": {
    "name": "ipython",
    "version": 3
   },
   "file_extension": ".py",
   "mimetype": "text/x-python",
   "name": "python",
   "nbconvert_exporter": "python",
   "pygments_lexer": "ipython3",
   "version": "3.11.5"
  }
 },
 "nbformat": 4,
 "nbformat_minor": 5
}
