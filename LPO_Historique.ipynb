{
 "cells": [
  {
   "cell_type": "markdown",
   "id": "4f04abac",
   "metadata": {},
   "source": [
    "# 1 : Librairies Python"
   ]
  },
  {
   "cell_type": "code",
   "execution_count": null,
   "id": "8796e8fe",
   "metadata": {},
   "outputs": [],
   "source": [
    "# pip install pandas sqlalchemy psycopg2-binary schedule"
   ]
  },
  {
   "cell_type": "code",
   "execution_count": null,
   "id": "1c98ba20",
   "metadata": {},
   "outputs": [],
   "source": [
    "# Librairies et options :\n",
    "\n",
    "import pandas as pd\n",
    "import random\n",
    "import datetime\n",
    "import requests\n",
    "import json\n",
    "import numpy as np\n",
    "import tqdm\n",
    "import time\n",
    "\n",
    "# Importer les codes depuis un autre notebook :\n",
    "%run Codes.ipynb\n",
    "\n",
    "from sqlalchemy import create_engine\n",
    "import psycopg2\n",
    "from sqlalchemy.types import Integer, BigInteger, JSON"
   ]
  },
  {
   "cell_type": "markdown",
   "id": "4e3c3c05",
   "metadata": {},
   "source": [
    "# 2 : Ouverture de l'API"
   ]
  },
  {
   "cell_type": "code",
   "execution_count": null,
   "id": "c7c465b5",
   "metadata": {},
   "outputs": [],
   "source": [
    "# Informations : https://weatherlink.github.io/v2-api/\n",
    "\n",
    "APIKey = SecretsAPI.get('APIKey')\n",
    "APISecret = SecretsAPI.get('APISecret')\n",
    "StationID = SecretsAPI.get('StationID')"
   ]
  },
  {
   "cell_type": "code",
   "execution_count": null,
   "id": "5885bb18",
   "metadata": {},
   "outputs": [],
   "source": [
    "# Date d'aujourd'hui à minuit :\n",
    "Today = datetime.date.today()\n",
    "TodayMidnight = datetime.datetime.combine(Today, datetime.time.min)\n",
    "\n",
    "# Date du début de la station :\n",
    "StartStation = datetime.datetime(2021, 9, 29, 0, 0)\n",
    "\n",
    "# Convertir la date en timestamp\n",
    "StartStationTimestamp = int(StartStation.timestamp())\n",
    "TodayMidnightTimestamp = int(TodayMidnight.timestamp())\n",
    "\n",
    "\n",
    "print(\"Le timestamp correspondant à la date du {} est :\".format(TodayMidnight), TodayMidnightTimestamp)\n",
    "print(\"Le timestamp correspondant à la date du {} est :\".format(StartStation), StartStationTimestamp)"
   ]
  },
  {
   "cell_type": "code",
   "execution_count": null,
   "id": "b988c4b4",
   "metadata": {},
   "outputs": [],
   "source": [
    "# DataFrame historiques :\n",
    "dfHistorique = pd.DataFrame()\n",
    "\n",
    "# Nb de jours à récupérer :\n",
    "NbJours = int((TodayMidnightTimestamp - StartStationTimestamp) / 86400)\n",
    "\n",
    "for i in tqdm.tqdm(range(NbJours)):\n",
    "    StartTime = StartStationTimestamp + i * 86400\n",
    "    EndTime = StartTime + 86400\n",
    "    \n",
    "    # Lien de la request : \n",
    "    link = 'https://api.weatherlink.com/v2/historic/{}?api-key={}&start-timestamp={}&end-timestamp={}'.format(StationID, APIKey, StartTime, EndTime)\n",
    "    headers = {'X-Api-Secret' : APISecret}\n",
    "\n",
    "    # Requête :\n",
    "    r = requests.get(link, headers=headers)\n",
    "\n",
    "    # Si la requête a réussi :\n",
    "    if r.status_code == 200:\n",
    "        # Lecture de la request en json :\n",
    "        data = r.json()\n",
    "\n",
    "        # Transformation en DF : \n",
    "        dfJour = pd.DataFrame(data)\n",
    "        dfJour = dfJour[['station_id','sensors']]\n",
    "\n",
    "        # Récupération des valeurs se trouvant dans sensors :\n",
    "        dfSensors = pd.json_normalize(data['sensors'][0]['data'])\n",
    "    \n",
    "        # Récupération des json sur une colonne :\n",
    "        dfJour = pd.DataFrame({'station_id': data['station_id'], 'infos_json' : data['sensors'][0]['data']})\n",
    "    \n",
    "        # Convertir les objets JSON en chaînes de caractères JSON :\n",
    "        dfJour['infos_json'] = dfJour['infos_json'].apply(json.dumps)\n",
    "\n",
    "        # Concat des données :\n",
    "        dfJour = pd.concat([dfJour, dfSensors], axis=1)\n",
    "        \n",
    "        # Concaténation des données :\n",
    "        dfHistorique = pd.concat([dfHistorique, dfJour], ignore_index=True)\n",
    "    else:\n",
    "        print(\"La requête {} a échoué avec le code d'erreur {}\".format(link, r.status_code))"
   ]
  },
  {
   "cell_type": "code",
   "execution_count": null,
   "id": "66a86b25",
   "metadata": {},
   "outputs": [],
   "source": [
    "# Data Frame Finale :\n",
    "dfHistorique.head()"
   ]
  },
  {
   "cell_type": "markdown",
   "id": "2d63b4c2",
   "metadata": {},
   "source": [
    "# 3 : Transfert sur PostgreSQL"
   ]
  },
  {
   "cell_type": "code",
   "execution_count": null,
   "id": "80f5139f",
   "metadata": {},
   "outputs": [],
   "source": [
    "# Paramètres de connexion à la base de données PostgreSQL en local :\n",
    "host = SecretsBDD.get('host')\n",
    "database = SecretsBDD.get('database')\n",
    "user = SecretsBDD.get('user')\n",
    "password = SecretsBDD.get('password')"
   ]
  },
  {
   "cell_type": "code",
   "execution_count": null,
   "id": "06b8590b",
   "metadata": {},
   "outputs": [],
   "source": [
    "# Début du chronomètre :\n",
    "start_time = time.time()\n",
    "\n",
    "# Création de la chaîne de connexion PostgreSQL :\n",
    "conn_str = f\"postgresql://{user}:{password}@{host}/{database}\"\n",
    "\n",
    "# Création de la connexion à la base de données PostgreSQL :\n",
    "engine = create_engine(conn_str)\n",
    "\n",
    "# Définir les types de données pour chaque colonne :\n",
    "dtype = {'station_id': Integer(),\n",
    "         'ts': BigInteger(),\n",
    "         'infos_json': JSON}\n",
    "\n",
    "# Insérer le DataFrame dans la base de données PostgreSQL :\n",
    "dfHistorique.to_sql('historiquemeteo', engine, if_exists = 'replace', index=False, dtype=dtype)\n",
    "\n",
    "# Fermeture de la connexion :\n",
    "engine.dispose()\n",
    "\n",
    "# Fin du chronomètre :\n",
    "end_time = time.time()\n",
    "\n",
    "# Calcul de la durée d'exécution :\n",
    "execution_time = end_time - start_time\n",
    "\n",
    "# Affichage de la durée d'exécution :\n",
    "print(\"Durée d'exécution :\", round(execution_time/60,2), \"minutes\")"
   ]
  },
  {
   "cell_type": "markdown",
   "id": "f0f694e0",
   "metadata": {},
   "source": [
    "# 4 : Ouverture de la BDD"
   ]
  },
  {
   "cell_type": "code",
   "execution_count": null,
   "id": "5d308f51",
   "metadata": {},
   "outputs": [],
   "source": [
    "# Connexion à la base de données\n",
    "conn = psycopg2.connect(dbname = database, user = user, password = password , host = host)\n",
    "\n",
    "# Création d'un curseur : permet d'exécuter des commandes SQL sur la base de données.\n",
    "cur = conn.cursor()\n",
    "\n",
    "# Exécution d'une requête SQL pour sélectionner les données de ma_table\n",
    "cur.execute(\"SELECT * FROM historiquemeteo LIMIT 5\")\n",
    "\n",
    "# Récupération des données dans une liste de tuples\n",
    "data = cur.fetchall()\n",
    "\n",
    "# Création d'un DataFrame à partir des données\n",
    "df = pd.DataFrame(data, columns=[desc[0] for desc in cur.description])\n",
    "\n",
    "# Fermeture du curseur et de la connexion\n",
    "cur.close()\n",
    "conn.close()\n",
    "\n",
    "df"
   ]
  },
  {
   "cell_type": "code",
   "execution_count": null,
   "id": "50c98928",
   "metadata": {},
   "outputs": [],
   "source": [
    "import psycopg2\n",
    "\n",
    "# Connexion à la base de données\n",
    "conn = psycopg2.connect(dbname=database, user=user, password=password, host=host)\n",
    "\n",
    "# Création d'un curseur : permet d'exécuter des commandes SQL sur la base de données.\n",
    "cur = conn.cursor()\n",
    "\n",
    "# Exécution d'une requête SQL pour obtenir les informations de schéma de la table\n",
    "cur.execute(\"SELECT column_name, data_type FROM information_schema.columns WHERE table_name = 'historiquemeteo'\")\n",
    "\n",
    "# Récupération des données dans une liste de tuples\n",
    "column_info = cur.fetchall()\n",
    "\n",
    "# Affichage du format de chaque colonne\n",
    "for column in column_info:\n",
    "    print(\"La colonne \", column[0], \"à pour format :\", column[1])\n",
    "\n",
    "# Fermeture du curseur et de la connexion\n",
    "cur.close()\n",
    "conn.close()"
   ]
  }
 ],
 "metadata": {
  "kernelspec": {
   "display_name": "Python 3 (ipykernel)",
   "language": "python",
   "name": "python3"
  },
  "language_info": {
   "codemirror_mode": {
    "name": "ipython",
    "version": 3
   },
   "file_extension": ".py",
   "mimetype": "text/x-python",
   "name": "python",
   "nbconvert_exporter": "python",
   "pygments_lexer": "ipython3",
   "version": "3.11.5"
  }
 },
 "nbformat": 4,
 "nbformat_minor": 5
}
